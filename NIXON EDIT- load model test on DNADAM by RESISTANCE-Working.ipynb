{
 "cells": [
  {
   "cell_type": "markdown",
   "metadata": {},
   "source": [
    "### To note: Running this on different systems (i.e. local, SCW, server) will result in slight changes needing to the code"
   ]
  },
  {
   "cell_type": "code",
   "execution_count": 1,
   "metadata": {},
   "outputs": [
    {
     "name": "stderr",
     "output_type": "stream",
     "text": [
      "/opt/conda/lib/python3.8/site-packages/scipy/__init__.py:138: UserWarning: A NumPy version >=1.16.5 and <1.23.0 is required for this version of SciPy (detected version 1.24.4)\n",
      "  warnings.warn(f\"A NumPy version >={np_minversion} and <{np_maxversion} is required for this version of \"\n"
     ]
    }
   ],
   "source": [
    "# Load libraries\n",
    "import os\n",
    "import numpy as np\n",
    "import torch\n",
    "import sys\n",
    "import torchvision\n",
    "import torchvision.transforms as T\n",
    "import torchvision.models as models\n",
    "from PIL import Image\n",
    "from PIL import ImageEnhance\n",
    "import matplotlib.pyplot as plt\n",
    "import imagesize\n",
    "import subprocess\n",
    "sys.path\n",
    "from IPython.core.debugger import set_trace\n",
    "import scipy.ndimage\n",
    "import matplotlib.patches as patches\n",
    "# plt.rcParams['figure.figsize'] = [12,12]\n",
    "# sys.path.append('/workspace/myFile/Mask_RCNN_Tutorial/')\n",
    "from tqdm import tqdm\n",
    "from torch import nn as nn\n",
    "from torch import optim as optim\n",
    "from torch.optim import lr_scheduler\n",
    "device = torch.device(\"cuda:0\" if torch.cuda.is_available() else \"cpu\")\n",
    "import re\n",
    "import time\n",
    "import copy\n",
    "import pylab\n",
    "from torch.utils.tensorboard import SummaryWriter\n",
    "from tempfile import TemporaryDirectory\n",
    "import torch.backends.cudnn as cudnn\n",
    "from sklearn.metrics import confusion_matrix\n",
    "from sklearn.metrics import ConfusionMatrixDisplay\n",
    "import seaborn as sn\n",
    "import pandas as pd\n",
    "import glob\n",
    "# Rather than have a messy notebook with a load of functions we can store them in separate .py files and import them\n",
    "\n",
    "cudnn.benchmark = True\n",
    "plt.ion()   # interactive mode"
   ]
  },
  {
   "cell_type": "code",
   "execution_count": 2,
   "metadata": {},
   "outputs": [],
   "source": [
    "\n",
    "writer = SummaryWriter(\"Experiments/TENSORBOARD\")    # This determines the tensorboard file name"
   ]
  },
  {
   "cell_type": "code",
   "execution_count": 3,
   "metadata": {},
   "outputs": [],
   "source": [
    "class DNADataset(object):\n",
    "    def __init__(self, root, transforms, labels, imDx = False, resistant=None):\n",
    "        self.root, self.transforms, self.labels = root, transforms, labels\n",
    "    \n",
    "        if resistant==False:\n",
    "            self.imgDir = glob.glob(root+\"04*/*.tiff\")\n",
    "            self.imgDir = self.imgDir +glob.glob(root+\"05*/*.tiff\")\n",
    "            self.imgDir =self.imgDir+ glob.glob(root+\"06*/*.tiff\")\n",
    "            print(\"non resistant \"+root)\n",
    "            Damagednuclei= [x for x in self.imgDir if 'Damaged_nuclei_' in x]\n",
    "            Undamagednuclei= [x for x in self.imgDir if \"No_damage_nuclei\" in x]\n",
    "        elif resistant==True:\n",
    "            self.imgDir = glob.glob(root+\"10*/*.tiff\")\n",
    "            self.imgDir = self.imgDir +glob.glob(root+\"11*/*.tiff\")\n",
    "            self.imgDir =self.imgDir+ glob.glob(root+\"12*/*.tiff\")\n",
    "            print(\"resistant \"+root)\n",
    "            Damagednuclei= [x for x in self.imgDir if 'Damaged_nuclei_' in x]\n",
    "            Undamagednuclei= [x for x in self.imgDir if \"No_damage_nuclei\" in x]\n",
    "        else:\n",
    "            pass\n",
    "        #np.random.shuffle(Undamagednuclei)\n",
    "        #Undamagednuclei=Undamagednuclei[:10000]\n",
    "        self.imgDir= Damagednuclei+Undamagednuclei\n",
    "        size80=[]\n",
    "        for x in self.imgDir:\n",
    "            img = Image.open(x) # Open image\n",
    "            w,h=img.size\n",
    "            if w<=80 and h<=80:\n",
    "                size80.append(x)\n",
    "        self.imgDir=size80              \n",
    "        \n",
    "        self.imgs = sorted(self.imgDir) # list of images\n",
    "\n",
    "        \n",
    "\n",
    "        \n",
    "    def __getitem__(self, idx):\n",
    "        img_path = self.imgs[idx]\n",
    "       \n",
    "        # Transform images into tensors\n",
    "        img = Image.open(img_path) # Open image\n",
    "        w,h=img.size\n",
    "        img = np.array(img) # Convert image into an array\n",
    "        img = np.float32(np.divide(img, 2**16)) # Ensure all values are floats\n",
    "        \n",
    "        result=np.zeros((80,80), dtype=np.float32)\n",
    "        x_center = (80 - w) // 2\n",
    "        y_center = (80 - h) // 2 # copy img image into center of result image\n",
    "        result[y_center:y_center+h, x_center:x_center+w] = img\n",
    "        img = result\n",
    "        \n",
    "        targetlab=\"\"\n",
    "        if img_path.find('No_damage_nuclei') != -1:\n",
    "            targetlab= 'Undamaged'\n",
    "        if img_path.find('Damaged_nuclei_') != -1:\n",
    "            targetlab= 'Damaged'  # Find labels corresponding to image\n",
    "        target = self.labels.index(targetlab) # Get the label and assign to a value\n",
    "        \n",
    "        # Convert label to tensor\n",
    "        #torch.to\n",
    "        \n",
    "        if self.transforms is not None:\n",
    "            img = self.transforms(img)\n",
    "#             #print('In the transforms')\n",
    "        imNo = idx\n",
    "        return img, target, imNo\n",
    "        \n",
    "    def __len__(self):\n",
    "        return len(self.imgs)\n",
    " "
   ]
  },
  {
   "cell_type": "code",
   "execution_count": 4,
   "metadata": {},
   "outputs": [],
   "source": [
    "imDr = \"/workspace/myFile/Output/17052023/\"  # Image patches directory\n",
    "\n",
    "labels = ['Undamaged','Damaged']  # Your labels"
   ]
  },
  {
   "cell_type": "code",
   "execution_count": 5,
   "metadata": {},
   "outputs": [],
   "source": [
    "# For data augmentation\n",
    "def get_transform(train):\n",
    "    transforms = []\n",
    "\n",
    "    transforms.append(T.ToTensor())\n",
    "    #transforms.append(T.Normalize([0.0019368887995516483], [0.00672996630111016]))\n",
    "    #transforms.append(T.RandomHorizontalFlip(0.5))\n",
    "    \n",
    "    if train:\n",
    "        transforms.append(T.RandomHorizontalFlip(p=1))\n",
    "        transforms.append(T.RandomVerticalFlip(p=1))\n",
    "    \n",
    "    return T.Compose(transforms)"
   ]
  },
  {
   "cell_type": "code",
   "execution_count": 6,
   "metadata": {},
   "outputs": [],
   "source": [
    "def train_model(model, criterion, optimizer, scheduler, train, test, num_epochs=25):\n",
    "    since = time.time()\n",
    "    # Create a temporary directory to save training checkpoints\n",
    "    with TemporaryDirectory() as tempdir:\n",
    "        best_model_params_path = os.path.join(tempdir, 'best_model_params.pt')\n",
    "\n",
    "        torch.save(model.state_dict(), best_model_params_path)\n",
    "        best_acc = 0.0\n",
    "        \n",
    "        for epoch in range(num_epochs):\n",
    "            print(f'Epoch {epoch}/{num_epochs - 1}')\n",
    "            print('-' * 10)\n",
    "            #dataset_train = torch.utils.data.Subset(dataSetTrain, train[epoch])\n",
    "            dataset_test = torch.utils.data.Subset(dataSetTest, test[epoch])\n",
    "            #data_loader_train = torch.utils.data.DataLoader(\n",
    "                #dataset_train, batch_size=128, shuffle=True, num_workers=0)\n",
    "\n",
    "            data_loader_test = torch.utils.data.DataLoader(\n",
    "                dataset_test, batch_size=128, shuffle=False, num_workers=0)\n",
    "            # Each epoch has a training and validation phase\n",
    "            for phase in ['val']:\n",
    "                if phase == 'train':\n",
    "                    model.train()  # Set model to training mode\n",
    "                    dataloaders = data_loader_train\n",
    "                else:\n",
    "                    model.eval()   # Set model to evaluate mode\n",
    "                    dataloaders = data_loader_test\n",
    "\n",
    "                running_loss = 0.0\n",
    "                running_corrects = 0\n",
    "                damaged_len=0\n",
    "                damaged_corrects = 0\n",
    "                undamaged_len=0\n",
    "                undamaged_corrects = 0\n",
    "\n",
    "                # Iterate over data.\n",
    "                for inputs, labels, imNo in dataloaders:\n",
    "                    inputs = inputs.to(device)\n",
    "                    labels = labels.to(device)\n",
    "\n",
    "                    # zero the parameter gradients\n",
    "                    optimizer.zero_grad()\n",
    "\n",
    "                    # forward\n",
    "                    # track history if only in train\n",
    "                    with torch.set_grad_enabled(phase == 'train'):\n",
    "                        outputs = model(inputs)\n",
    "                        _, preds = torch.max(outputs, 1)\n",
    "                        loss = criterion(outputs, labels)\n",
    "                        # backward + optimize only if in training phase\n",
    "                        if phase == 'train':\n",
    "                            loss.backward()\n",
    "                            optimizer.step()\n",
    "\n",
    "                    # statistics\n",
    "                    running_loss += loss.item() * inputs.size(0)    # Loss\n",
    "                    nada=torch.tensor(np.zeros(len(labels))).to(device)\n",
    "                    uno=nada+1\n",
    "                    falseneg=preds+1\n",
    "                    falsepos=preds-1\n",
    "                    FPplusTN=torch.sum(labels==nada)\n",
    "                    TPplusFN=torch.sum(labels==uno)\n",
    "                    FN=torch.sum(labels==falseneg)\n",
    "                    FP=torch.sum(labels==falsepos)\n",
    "                    TN=FPplusTN-FP\n",
    "                    TP=TPplusFN-FN\n",
    "                    running_corrects += torch.sum(preds == labels.data) # Accuracy\n",
    "                    damaged_len+=TPplusFN\n",
    "                    damaged_corrects += TP\n",
    "                    undamaged_len+=FPplusTN\n",
    "                    undamaged_corrects += TN\n",
    "                damaged_acc = damaged_corrects / damaged_len\n",
    "                undamaged_acc = undamaged_corrects/undamaged_len\n",
    "                epoch_acc= (damaged_acc+undamaged_acc)/2\n",
    "                proper_acc=(damaged_corrects+undamaged_corrects)/(damaged_len+undamaged_len)\n",
    "                if phase == 'train':\n",
    "                    scheduler.step()\n",
    "\n",
    "                epoch_loss = running_loss / dataset_sizes[phase]  # Loss metric per epoch\n",
    "                #epoch_acc = running_corrects.double() / dataset_sizes[phase]    # Accuracy metric per epoch\n",
    "\n",
    "                if phase == \"train\":    # This is the tensorboard code that writes accuracy and loss metrics\n",
    "                    writer.add_scalar(\"Train/Accuracy\", epoch_acc, epoch)\n",
    "                    writer.add_scalar(\"Train/Loss\", epoch_loss, epoch)\n",
    "                else:\n",
    "                    writer.add_scalar(\"Validation/Accuracy\", epoch_acc, epoch)\n",
    "                    writer.add_scalar(\"Validation/Loss\", epoch_loss, epoch)\n",
    "\n",
    "                print(f'{phase} Loss: {epoch_loss:.4f} Acc: {epoch_acc:.4f}')\n",
    "                print(\"proper accuracy=\")\n",
    "                print(proper_acc)\n",
    "                print(\"damaged accuracy=\")\n",
    "                print(damaged_acc)\n",
    "                print(\"undamaged accuracy=\")\n",
    "                print(undamaged_acc)\n",
    "                \n",
    "                \n",
    "                \n",
    "                con_matter= torch.tensor([[damaged_corrects, damaged_len-damaged_corrects],[undamaged_len-undamaged_corrects,undamaged_corrects]])\n",
    "                con_matter=con_matter.cpu().numpy()\n",
    "                \n",
    "                print(epoch_acc.shape)\n",
    "                epoch_acc=epoch_acc.item()\n",
    "                proper_acc=proper_acc.item()\n",
    "                damaged_acc=damaged_acc.item()\n",
    "                undamaged_acc=undamaged_acc.item()\n",
    "                print(\"list\")\n",
    "                \n",
    "                print(1-epoch_acc)\n",
    "                print(1-proper_acc)\n",
    "                print(1-damaged_acc)\n",
    "                print(1-undamaged_acc)\n",
    "                \n",
    "                print(con_matter)\n",
    "                # deep copy the model\n",
    "                if phase == 'val' and proper_acc >= best_acc: \n",
    "                    # This compares validation accuracy to previous bests and adjusts model weights accordingly\n",
    "                    best_acc = epoch_acc\n",
    "                    torch.save(model.state_dict(), best_model_params_path)\n",
    "                    con_mat= torch.tensor([[undamaged_len-undamaged_corrects,undamaged_corrects],[damaged_corrects, damaged_len-damaged_corrects]])\n",
    "\n",
    "            print()\n",
    "\n",
    "        time_elapsed = time.time() - since  # Nice way to measure training time but info also stored (indirectly) by tensorboard\n",
    "        print(\n",
    "            f'Training complete in {time_elapsed // 60:.0f}m {time_elapsed % 60:.0f}s')\n",
    "        print(f'Best val Acc: {best_acc:4f}')\n",
    "        #labels= labels.cpu().numpy()\n",
    "        #preds=preds.cpu().numpy()\n",
    "        model.load_state_dict(torch.load(best_model_params_path))\n",
    "    writer.close()\n",
    "    return model, con_mat   # We want to return the model because its the model, also confusion matrix for later analysis\n"
   ]
  },
  {
   "cell_type": "code",
   "execution_count": 7,
   "metadata": {},
   "outputs": [],
   "source": [
    "# This is your RESNET\n",
    "# Initialize CNN with kaiming\n",
    "def init_cnn(m):\n",
    "    # Set the weights of the RESNET\n",
    "    if getattr(m, 'bias', None) is not None: nn.init.constant_(m.bias, 0)\n",
    "    if isinstance(m, (nn.Conv2d,nn.Linear)): nn.init.kaiming_normal_(m.weight)\n",
    "    for l in m.children(): init_cnn(l)\n",
    "\n",
    "\n",
    "# noop function for returning nothing\n",
    "def noop(x): return x\n",
    "# activation function(RELU)\n",
    "act_fn = nn.ReLU(inplace=True)\n",
    "\n",
    "# Flatten\n",
    "class Flatten(nn.Module):\n",
    "    def forward(self, x): return x.view(x.size(0), -1)\n",
    "\n",
    "# Make a convolution\n",
    "def conv(ni, nf, ks=3, stride=1, bias=False):\n",
    "    return nn.Conv2d(ni, nf, kernel_size=ks, stride=stride, padding=ks//2, bias=bias)\n",
    "\n",
    "# Create a convuolutional layer with convolution and batch norm\n",
    "def conv_layer(ni, nf, ks=3, stride=1, zero_bn=False, act=True):\n",
    "    bn = nn.BatchNorm2d(nf) # get a 2d batch norm from Pytorhc\n",
    "    nn.init.constant_(bn.weight, 0. if zero_bn else 1.)\n",
    "    layers = [conv(ni, nf, ks, stride=stride), bn]\n",
    "    if act: layers.append(act_fn) # add in the activation function if act is true\n",
    "    return nn.Sequential(*layers)\n",
    "\n",
    "\n",
    "# Resblock\n",
    "class ResBlock(nn.Module):\n",
    "    def __init__(self, expansion, ni, nh, stride = 1):\n",
    "        super().__init__()\n",
    "        # ni - number of inputs channels, nf - number of filters\n",
    "        # nh - number of filters in first conv\n",
    "        # expansion is 1 for resnet 18, 34 and 4 for larger networks\n",
    "        nf, ni = nh*expansion, ni*expansion\n",
    "        layers = [conv_layer(ni, nh, 3, stride = stride), # for resnet < 34 2 convs per resblock\n",
    "                 conv_layer(nh, nf, 3, zero_bn = True, act = False)\n",
    "                 ] if expansion == 1 else [ # for RESNET > 34 then 3 convs per block with bottleneck\n",
    "                            conv_layer(ni, nh, 1),\n",
    "                            conv_layer(nh, nh, 3, stride = stride),\n",
    "                            conv_layer(nh, nf, 1, zero_bn = True, act = False)\n",
    "        ]\n",
    "        self.convs = nn.Sequential(*layers) # Creates the conv layers\n",
    "        self.idconv = noop if ni==nf else conv_layer(ni, nf, 1, act = False) # id convolution ()\n",
    "        self.pool = noop if stride== 1 else nn.AvgPool2d(2, ceil_mode = True) # average pool on \n",
    "        \n",
    "    def forward(self, x): \n",
    "        # Forward function adds the convolution part to the id part \n",
    "        #return act_fn(self.convs(x)) + self.idconv(self.pool(x))\n",
    "        return act_fn(self.convs(x) + self.idconv(self.pool(x)))\n",
    "\n",
    "# XResnet\n",
    "class XResNet(nn.Sequential):\n",
    "    @classmethod\n",
    "    def create(cls, expansion, layers, c_in=3, c_out=1000):\n",
    "        nfs = [c_in, (c_in + 1)*8, 64, 64] # number of filters in stem layer (c_in is number of image channels)\n",
    "        stem = [conv_layer(nfs[i], nfs[i+1], stride=2 if i==0 else 1)\n",
    "            for i in range(3)]\n",
    "\n",
    "        nfs = [64//expansion,64,128,256,512]\n",
    "        res_layers = [cls._make_layer(expansion, nfs[i], nfs[i+1],\n",
    "                                      n_blocks=l, stride=1 if i==0 else 2)\n",
    "                  for i,l in enumerate(layers)]\n",
    "        res = cls(\n",
    "        *stem,\n",
    "        nn.MaxPool2d(kernel_size=3, stride = 2, padding = 1), # then a max pooling layer\n",
    "        *res_layers,\n",
    "        nn.AdaptiveAvgPool2d(1), Flatten(), \n",
    "        nn.Linear(nfs[-1]*expansion, c_out)\n",
    "        )\n",
    "        init_cnn(res)\n",
    "        return res\n",
    "        \n",
    "    @staticmethod\n",
    "    def _make_layer(expansion, ni, nf, n_blocks, stride): # returns a resblock\n",
    "        return nn.Sequential(\n",
    "        *[ResBlock(expansion, ni if i==0 else nf, nf, stride if i==0 else 1)\n",
    "         for i in range(n_blocks)])"
   ]
  },
  {
   "cell_type": "code",
   "execution_count": 8,
   "metadata": {},
   "outputs": [],
   "source": [
    "\n",
    "def xresnet18 (**kwargs): return XResNet.create(1, [2, 2,  2, 2], **kwargs)\n",
    "def xresnet34 (**kwargs): return XResNet.create(1, [3, 4,  6, 3], **kwargs)\n",
    "def xresnet50 (**kwargs): return XResNet.create(4, [3, 4,  6, 3], **kwargs)\n",
    "model = xresnet18(c_in = 1, c_out = 2)\n",
    "#model34 = xresnet34(c_in = 1, c_out = 2)\n",
    "#model50 = xresnet50(c_in = 1, c_out = 2)\n",
    "model.load_state_dict(torch.load(\"/workspace/myFile/Output/17052023/best_model_params.pt\"))\n",
    "model = model.to(device)\n",
    "\n",
    "# Label smoothing cross entropy\n",
    "import torch.nn.functional as F\n",
    "\n",
    "\n",
    "def reduce_loss(loss, reduction='mean'):\n",
    "    return loss.mean() if reduction=='mean' else loss.sum() if reduction=='sum' else loss\n",
    "\n",
    "class LabelSmoothingCrossEntropy(nn.Module):\n",
    "    def __init__(self, ε:float=0.1, reduction='mean'):\n",
    "        super().__init__()\n",
    "        self.ε,self.reduction = ε,reduction\n",
    "    \n",
    "    def forward(self, output, target):\n",
    "        c = output.size()[-1]\n",
    "        log_preds = F.log_softmax(output, dim=-1)\n",
    "        loss = reduce_loss(-log_preds.sum(dim=-1), self.reduction)\n",
    "        nll = F.nll_loss(log_preds, target, reduction=self.reduction)\n",
    "        return lin_comb(loss/c, nll, self.ε)"
   ]
  },
  {
   "cell_type": "code",
   "execution_count": 9,
   "metadata": {},
   "outputs": [],
   "source": [
    "# Helper functions that shows the image, true class, predicted class and degree of prediction\n",
    "\n",
    "def images_to_probs(net, images):\n",
    "    '''\n",
    "    Generates predictions and corresponding probabilities from a trained\n",
    "    network and a list of images\n",
    "    '''\n",
    "    output = net(images)\n",
    "    # convert output probabilities to predicted class\n",
    "    _, preds_tensor = torch.max(output, 1)\n",
    "    preds = np.squeeze(preds_tensor.numpy())\n",
    "    return preds, [F.softmax(el, dim=0)[i].item() for i, el in zip(preds, output)]\n",
    "\n",
    "\n",
    "def plot_classes_preds(net, images, labels):\n",
    "    '''\n",
    "    Generates matplotlib Figure using a trained network, along with images\n",
    "    and labels from a batch, that shows the network's top prediction along\n",
    "    with its probability, alongside the actual label, coloring this\n",
    "    information based on whether the prediction was correct or not.\n",
    "    Uses the \"images_to_probs\" function.\n",
    "    '''\n",
    "    preds, probs = images_to_probs(net, images)\n",
    "    # plot the images in the batch, along with predicted and true labels\n",
    "    fig = plt.figure(figsize=(12, 48))\n",
    "    for idx in np.arange(4):\n",
    "        ax = fig.add_subplot(1, 4, idx+1, xticks=[], yticks=[])\n",
    "        matplotlib_imshow(images[idx], one_channel=True)\n",
    "        ax.set_title(\"{0}, {1:.1f}%\\n(label: {2})\".format(\n",
    "            labels[preds[idx]],\n",
    "            probs[idx] * 100.0,\n",
    "            labels[labels[idx]]),\n",
    "                    color=(\"green\" if preds[idx]==labels[idx].item() else \"red\"))\n",
    "    return fig\n",
    "\n",
    "def matplotlib_imshow(img, one_channel=True):\n",
    "    if one_channel:\n",
    "        img = img.mean(dim=0)\n",
    "    img = img / 2 + 0.5     # unnormalize\n",
    "    npimg = img.numpy()\n",
    "    if one_channel:\n",
    "        plt.imshow(npimg, cmap=\"Greys\")\n",
    "    else:\n",
    "        plt.imshow(np.transpose(npimg, (1, 2, 0)))"
   ]
  },
  {
   "cell_type": "code",
   "execution_count": 10,
   "metadata": {},
   "outputs": [],
   "source": [
    "def confusion_matrix_calc(data_loader_test, classes, model_ft):       \n",
    "        y_pred = []\n",
    "        y_true = []\n",
    "        for inputs, labels, imNo in data_loader_test:\n",
    "                inputs = inputs.to(device)\n",
    "                labels = labels.to(device)\n",
    "                output = model_ft(inputs) # Feed Network\n",
    "\n",
    "                output = (torch.max(torch.exp(output), 1)[1]).data.cpu().numpy()\n",
    "                y_pred.extend(output) # Save Prediction\n",
    "                \n",
    "                labels = labels.data.cpu().numpy()\n",
    "                y_true.extend(labels) # Save Truth\n",
    "\n",
    "        # constant for classes\n",
    "        # classes = ('Alive', 'Dead')\n",
    "\n",
    "        # Build confusion matrix\n",
    "        cf_matrix = confusion_matrix(y_true, y_pred)\n",
    "        return cf_matrix\n"
   ]
  },
  {
   "cell_type": "code",
   "execution_count": 11,
   "metadata": {},
   "outputs": [],
   "source": [
    "class_weights= [0.924865,0.075135] #1-(#inclass/ #intotal )\n",
    "class_weights = torch.Tensor(class_weights)\n",
    "class_weights=class_weights.to(device)\n",
    "criterion = nn.CrossEntropyLoss(weight = class_weights) \n",
    "\n",
    "# Observe that all parameters are being optimized\n",
    "optimizer_ft = optim.Adam(model.parameters(), weight_decay=1e-2) # standard ADAM optimiser\n",
    "\n",
    "# Decay LR by a factor of 0.1 every 7 epochs\n",
    "exp_lr_scheduler = lr_scheduler.StepLR(optimizer_ft, step_size=7, gamma=0.1)"
   ]
  },
  {
   "cell_type": "code",
   "execution_count": 12,
   "metadata": {
    "scrolled": false
   },
   "outputs": [
    {
     "name": "stdout",
     "output_type": "stream",
     "text": [
      "non resistant /workspace/myFile/Output/17052023/A\n",
      "Epoch 0/0\n",
      "----------\n",
      "val Loss: 167476.2103 Acc: 0.2607\n",
      "proper accuracy=\n",
      "tensor(0.0215, device='cuda:0')\n",
      "damaged accuracy=\n",
      "tensor(0.5000, device='cuda:0')\n",
      "undamaged accuracy=\n",
      "tensor(0.0214, device='cuda:0')\n",
      "torch.Size([])\n",
      "list\n",
      "0.7392910122871399\n",
      "0.9784698337316513\n",
      "0.5\n",
      "0.9785820376127958\n",
      "[[    3     3]\n",
      " [25038   548]]\n",
      "\n",
      "Training complete in 0m 30s\n",
      "Best val Acc: 0.260709\n",
      "Actually undamaged:\n",
      "Actually damaged:\n",
      "Predicted undamaged:\n",
      "Predicted damaged:\n",
      "25586\n",
      "6\n",
      "25041\n",
      "551\n",
      "non resistant /workspace/myFile/Output/17052023/B\n",
      "Epoch 0/0\n",
      "----------\n",
      "val Loss: 13817.5763 Acc: 0.2042\n",
      "proper accuracy=\n",
      "tensor(0.3147, device='cuda:0')\n",
      "damaged accuracy=\n",
      "tensor(0.0819, device='cuda:0')\n",
      "undamaged accuracy=\n",
      "tensor(0.3264, device='cuda:0')\n",
      "torch.Size([])\n",
      "list\n",
      "0.7958439588546753\n",
      "0.6853215396404266\n",
      "0.9180887341499329\n",
      "0.6735991835594177\n",
      "[[  24  269]\n",
      " [3919 1899]]\n",
      "\n",
      "Training complete in 0m 7s\n",
      "Best val Acc: 0.204156\n",
      "Actually undamaged:\n",
      "Actually damaged:\n",
      "Predicted undamaged:\n",
      "Predicted damaged:\n",
      "5818\n",
      "293\n",
      "3943\n",
      "2168\n",
      "non resistant /workspace/myFile/Output/17052023/C\n",
      "Epoch 0/0\n",
      "----------\n",
      "val Loss: 36442.2381 Acc: 0.1023\n",
      "proper accuracy=\n",
      "tensor(0.0470, device='cuda:0')\n",
      "damaged accuracy=\n",
      "tensor(0.1579, device='cuda:0')\n",
      "undamaged accuracy=\n",
      "tensor(0.0467, device='cuda:0')\n",
      "torch.Size([])\n",
      "list\n",
      "0.8976932615041733\n",
      "0.9529521726071835\n",
      "0.8421052694320679\n",
      "0.9532812498509884\n",
      "[[   3   16]\n",
      " [6101  299]]\n",
      "\n",
      "Training complete in 0m 7s\n",
      "Best val Acc: 0.102307\n",
      "Actually undamaged:\n",
      "Actually damaged:\n",
      "Predicted undamaged:\n",
      "Predicted damaged:\n",
      "6400\n",
      "19\n",
      "6104\n",
      "315\n",
      "non resistant /workspace/myFile/Output/17052023/D\n",
      "Epoch 0/0\n",
      "----------\n",
      "val Loss: 4729.2805 Acc: 0.4249\n",
      "proper accuracy=\n",
      "tensor(0.3492, device='cuda:0')\n",
      "damaged accuracy=\n",
      "tensor(0.0153, device='cuda:0')\n",
      "undamaged accuracy=\n",
      "tensor(0.8344, device='cuda:0')\n",
      "torch.Size([])\n",
      "list\n",
      "0.5751229226589203\n",
      "0.6508130729198456\n",
      "0.984651711769402\n",
      "0.1655941605567932\n",
      "[[  52 3336]\n",
      " [ 386 1945]]\n",
      "\n",
      "Training complete in 0m 6s\n",
      "Best val Acc: 0.424877\n",
      "Actually undamaged:\n",
      "Actually damaged:\n",
      "Predicted undamaged:\n",
      "Predicted damaged:\n",
      "2331\n",
      "3388\n",
      "438\n",
      "5281\n",
      "non resistant /workspace/myFile/Output/17052023/E\n",
      "Epoch 0/0\n",
      "----------\n",
      "val Loss: 43340.0046 Acc: 0.0760\n",
      "proper accuracy=\n",
      "tensor(0.0751, device='cuda:0')\n",
      "damaged accuracy=\n",
      "tensor(0.0769, device='cuda:0')\n",
      "undamaged accuracy=\n",
      "tensor(0.0751, device='cuda:0')\n",
      "torch.Size([])\n",
      "list\n",
      "0.9240071326494217\n",
      "0.9249343201518059\n",
      "0.9230769202113152\n",
      "0.9249373450875282\n",
      "[[   1   12]\n",
      " [7381  599]]\n",
      "\n",
      "Training complete in 0m 9s\n",
      "Best val Acc: 0.075993\n",
      "Actually undamaged:\n",
      "Actually damaged:\n",
      "Predicted undamaged:\n",
      "Predicted damaged:\n",
      "7980\n",
      "13\n",
      "7382\n",
      "611\n",
      "non resistant /workspace/myFile/Output/17052023/F\n",
      "Epoch 0/0\n",
      "----------\n",
      "val Loss: 52133.5429 Acc: 0.0779\n",
      "proper accuracy=\n",
      "tensor(0.0361, device='cuda:0')\n",
      "damaged accuracy=\n",
      "tensor(0.1212, device='cuda:0')\n",
      "undamaged accuracy=\n",
      "tensor(0.0345, device='cuda:0')\n",
      "torch.Size([])\n",
      "list\n",
      "0.9221392944455147\n",
      "0.963946457952261\n",
      "0.8787878751754761\n",
      "0.9654907137155533\n",
      "[[  20  145]\n",
      " [8785  314]]\n",
      "\n",
      "Training complete in 0m 10s\n",
      "Best val Acc: 0.077861\n",
      "Actually undamaged:\n",
      "Actually damaged:\n",
      "Predicted undamaged:\n",
      "Predicted damaged:\n",
      "9099\n",
      "165\n",
      "8805\n",
      "459\n",
      "resistant /workspace/myFile/Output/17052023/A\n",
      "Epoch 0/0\n",
      "----------\n",
      "val Loss: 130330.7749 Acc: 0.0736\n",
      "proper accuracy=\n",
      "tensor(0.0400, device='cuda:0')\n",
      "damaged accuracy=\n",
      "tensor(0.1074, device='cuda:0')\n",
      "undamaged accuracy=\n",
      "tensor(0.0397, device='cuda:0')\n",
      "torch.Size([])\n",
      "list\n",
      "0.9264405518770218\n",
      "0.9599801562726498\n",
      "0.8925619870424271\n",
      "0.9603191092610359\n",
      "[[   13   108]\n",
      " [23112   955]]\n",
      "\n",
      "Training complete in 0m 27s\n",
      "Best val Acc: 0.073559\n",
      "Actually undamaged:\n",
      "Actually damaged:\n",
      "Predicted undamaged:\n",
      "Predicted damaged:\n",
      "24067\n",
      "121\n",
      "23125\n",
      "1063\n",
      "resistant /workspace/myFile/Output/17052023/B\n",
      "Epoch 0/0\n",
      "----------\n",
      "val Loss: 37380.1135 Acc: 0.1725\n",
      "proper accuracy=\n",
      "tensor(0.2382, device='cuda:0')\n",
      "damaged accuracy=\n",
      "tensor(0.0850, device='cuda:0')\n",
      "undamaged accuracy=\n",
      "tensor(0.2600, device='cuda:0')\n",
      "torch.Size([])\n",
      "list\n",
      "0.827529639005661\n",
      "0.7618013024330139\n",
      "0.9150119125843048\n",
      "0.7400473654270172\n",
      "[[ 107 1152]\n",
      " [6562 2305]]\n",
      "\n",
      "Training complete in 0m 11s\n",
      "Best val Acc: 0.172470\n",
      "Actually undamaged:\n",
      "Actually damaged:\n",
      "Predicted undamaged:\n",
      "Predicted damaged:\n",
      "8867\n",
      "1259\n",
      "6669\n",
      "3457\n",
      "resistant /workspace/myFile/Output/17052023/C\n",
      "Epoch 0/0\n",
      "----------\n",
      "val Loss: 29353.1720 Acc: 0.0892\n",
      "proper accuracy=\n",
      "tensor(0.0565, device='cuda:0')\n",
      "damaged accuracy=\n",
      "tensor(0.1224, device='cuda:0')\n",
      "undamaged accuracy=\n",
      "tensor(0.0560, device='cuda:0')\n",
      "torch.Size([])\n",
      "list\n",
      "0.9107532799243927\n",
      "0.9434569403529167\n",
      "0.8775510191917419\n",
      "0.9439555332064629\n",
      "[[   6   43]\n",
      " [6114  363]]\n",
      "\n",
      "Training complete in 0m 7s\n",
      "Best val Acc: 0.089247\n",
      "Actually undamaged:\n",
      "Actually damaged:\n",
      "Predicted undamaged:\n",
      "Predicted damaged:\n",
      "6477\n",
      "49\n",
      "6120\n",
      "406\n",
      "resistant /workspace/myFile/Output/17052023/D\n",
      "Epoch 0/0\n",
      "----------\n",
      "val Loss: 6482.9763 Acc: 0.3984\n",
      "proper accuracy=\n",
      "tensor(0.3584, device='cuda:0')\n",
      "damaged accuracy=\n",
      "tensor(0.0134, device='cuda:0')\n",
      "undamaged accuracy=\n",
      "tensor(0.7833, device='cuda:0')\n",
      "torch.Size([])\n",
      "list\n",
      "0.60164675116539\n",
      "0.6416269242763519\n",
      "0.9865578496828675\n",
      "0.21673566102981567\n",
      "[[  56 4110]\n",
      " [ 733 2649]]\n",
      "\n",
      "Training complete in 0m 8s\n",
      "Best val Acc: 0.398353\n",
      "Actually undamaged:\n",
      "Actually damaged:\n",
      "Predicted undamaged:\n",
      "Predicted damaged:\n",
      "3382\n",
      "4166\n",
      "789\n",
      "6759\n",
      "resistant /workspace/myFile/Output/17052023/E\n",
      "Epoch 0/0\n",
      "----------\n",
      "val Loss: 56490.5164 Acc: 0.0736\n",
      "proper accuracy=\n",
      "tensor(0.0624, device='cuda:0')\n",
      "damaged accuracy=\n",
      "tensor(0.0852, device='cuda:0')\n",
      "undamaged accuracy=\n",
      "tensor(0.0621, device='cuda:0')\n",
      "torch.Size([])\n",
      "list\n",
      "0.9263593852519989\n",
      "0.937596432864666\n",
      "0.9147727265954018\n",
      "0.9379460401833057\n",
      "[[   15   161]\n",
      " [10777   713]]\n",
      "\n",
      "Training complete in 0m 13s\n",
      "Best val Acc: 0.073641\n",
      "Actually undamaged:\n",
      "Actually damaged:\n",
      "Predicted undamaged:\n",
      "Predicted damaged:\n",
      "11490\n",
      "176\n",
      "10792\n",
      "874\n",
      "resistant /workspace/myFile/Output/17052023/F\n",
      "Epoch 0/0\n",
      "----------\n",
      "val Loss: 53634.8028 Acc: 0.0943\n",
      "proper accuracy=\n",
      "tensor(0.0405, device='cuda:0')\n",
      "damaged accuracy=\n",
      "tensor(0.1506, device='cuda:0')\n",
      "undamaged accuracy=\n",
      "tensor(0.0379, device='cuda:0')\n",
      "torch.Size([])\n",
      "list\n",
      "0.9057394415140152\n",
      "0.9595480002462864\n",
      "0.849372386932373\n",
      "0.9621064886450768\n",
      "[[  36  203]\n",
      " [9902  390]]\n",
      "\n",
      "Training complete in 0m 12s\n",
      "Best val Acc: 0.094261\n",
      "Actually undamaged:\n",
      "Actually damaged:\n",
      "Predicted undamaged:\n",
      "Predicted damaged:\n",
      "10292\n",
      "239\n",
      "9938\n",
      "593\n"
     ]
    },
    {
     "data": {
      "image/png": "[encoded data removed]",
      "text/plain": [
       "<Figure size 864x504 with 2 Axes>"
      ]
     },
     "metadata": {
      "needs_background": "light"
     },
     "output_type": "display_data"
    },
    {
     "data": {
      "image/png": "[encoded data removed]",
      "text/plain": [
       "<Figure size 864x504 with 2 Axes>"
      ]
     },
     "metadata": {
      "needs_background": "light"
     },
     "output_type": "display_data"
    },
    {
     "data": {
      "image/png": "[encoded data removed]",
      "text/plain": [
       "<Figure size 864x504 with 2 Axes>"
      ]
     },
     "metadata": {
      "needs_background": "light"
     },
     "output_type": "display_data"
    },
    {
     "data": {
      "image/png": "[encoded data removed]",
      "text/plain": [
       "<Figure size 864x504 with 2 Axes>"
      ]
     },
     "metadata": {
      "needs_background": "light"
     },
     "output_type": "display_data"
    },
    {
     "data": {
      "image/png": "[encoded data removed]",
      "text/plain": [
       "<Figure size 864x504 with 2 Axes>"
      ]
     },
     "metadata": {
      "needs_background": "light"
     },
     "output_type": "display_data"
    },
    {
     "data": {
      "image/png": "[encoded data removed]",
      "text/plain": [
       "<Figure size 864x504 with 2 Axes>"
      ]
     },
     "metadata": {
      "needs_background": "light"
     },
     "output_type": "display_data"
    },
    {
     "data": {
      "image/png": "[encoded data removed]",
      "text/plain": [
       "<Figure size 864x504 with 2 Axes>"
      ]
     },
     "metadata": {
      "needs_background": "light"
     },
     "output_type": "display_data"
    },
    {
     "data": {
      "image/png": "[encoded data removed]",
      "text/plain": [
       "<Figure size 864x504 with 2 Axes>"
      ]
     },
     "metadata": {
      "needs_background": "light"
     },
     "output_type": "display_data"
    },
    {
     "data": {
      "image/png": "[encoded data removed]",
      "text/plain": [
       "<Figure size 864x504 with 2 Axes>"
      ]
     },
     "metadata": {
      "needs_background": "light"
     },
     "output_type": "display_data"
    },
    {
     "data": {
      "image/png": "[encoded data removed]",
      "text/plain": [
       "<Figure size 864x504 with 2 Axes>"
      ]
     },
     "metadata": {
      "needs_background": "light"
     },
     "output_type": "display_data"
    },
    {
     "data": {
      "image/png": "[encoded data removed]",
      "text/plain": [
       "<Figure size 864x504 with 2 Axes>"
      ]
     },
     "metadata": {
      "needs_background": "light"
     },
     "output_type": "display_data"
    },
    {
     "data": {
      "image/png": "[encoded data removed]",
      "text/plain": [
       "<Figure size 864x504 with 2 Axes>"
      ]
     },
     "metadata": {
      "needs_background": "light"
     },
     "output_type": "display_data"
    }
   ],
   "source": [
    "k=5 #NUMBER OF K FOLDS\n",
    "epoch=range(5) #NUMBER OF EPOCHS\n",
    "\n",
    "torch.manual_seed(10)\n",
    "imIdx = torch.randperm(1).tolist()\n",
    "\n",
    "## Create dataset\n",
    "\n",
    "\n",
    "data_loader_train=[]\n",
    "data_loader_test=[]\n",
    "\n",
    "# ## Create dataloaders\n",
    "# Get subset\n",
    "torch.manual_seed(10)\n",
    "test=[0,0]\n",
    "train=[0]\n",
    "resist=[0,1]\n",
    "for resist in [0, 1]:\n",
    "    for drug in [\"A\",\"B\",\"C\",\"D\",\"E\",\"F\"]:\n",
    "        test=[]\n",
    "        dataSetTest = DNADataset(imDr+drug, get_transform(train = False), labels, imDx=imIdx, resistant=resist)\n",
    "        TotalSet=list(range(len(dataSetTest)))\n",
    "        test.append(TotalSet)\n",
    "        dataset_sizes = {'train': len(train), 'val': len(test)}\n",
    "        model_ft, con_mat = train_model(model, criterion, optimizer_ft, exp_lr_scheduler, \n",
    "                                        train,test,num_epochs=1)\n",
    "        con_mat=con_mat.cpu().numpy()\n",
    "        print(\"Actually undamaged:\")\n",
    "        print(\"Actually damaged:\")\n",
    "        print(\"Predicted undamaged:\")\n",
    "        print(\"Predicted damaged:\")\n",
    "        print(sum(con_mat[0]))\n",
    "        print(sum(con_mat[1]))\n",
    "        print((con_mat[0][0]+con_mat[1][0]))\n",
    "        print((con_mat[0][1]+con_mat[1][1]))\n",
    "        df_cm_ratio = pd.DataFrame(con_mat / np.sum(con_mat, axis=1)[:, None], index=[i for i in labels],\n",
    "                         columns=[i for i in labels])\n",
    "        plt.figure(figsize=(12, 7))\n",
    "        sn.heatmap(df_cm_ratio, annot=True)\n",
    "# plt.save(\"Confusion_matrix_ratio.png\")\n",
    "#dataset_train = torch.utils.data.Subset(dataSetTrain, indices[-noTrain:])\n",
    "\n",
    "#dataset_test = torch.utils.data.Subset(dataSetTest, indices[:-noTrain])\n",
    "#len(indices), len(indices[:-50]), len(indices[-50:]), 50/191, type(dataset_test)\n",
    "\n",
    "\n",
    "\n",
    "#dataset_train = torch.utils.data.Subset(dataSetTrain, train)\n",
    "#data_loader_train.append(dataset_train)\n",
    "#dataset_testo = torch.utils.data.Subset(dataSetTest, test)\n",
    "#data_loader_test.append(dataset_testo)\n",
    "# define training and validation data loaders\n",
    "\n",
    "\n",
    "# Collate function (gathers together the outputs)\n",
    "# def collate_fn(batch):\n",
    "#     return tuple(zip(*batch))\n",
    "\n",
    "#len(indices[-noTrain:]), dataset_sizes\n",
    "#dataset_test[0][1], dataset_test[3][1], dataset_test[-1][1], dataSetTrain.imgs"
   ]
  },
  {
   "cell_type": "code",
   "execution_count": null,
   "metadata": {
    "scrolled": true
   },
   "outputs": [],
   "source": []
  },
  {
   "cell_type": "code",
   "execution_count": 13,
   "metadata": {},
   "outputs": [],
   "source": [
    "#cf_matrix = confusion_matrix_calc(data_loader_test, labels, model_ft)"
   ]
  },
  {
   "cell_type": "code",
   "execution_count": 14,
   "metadata": {},
   "outputs": [
    {
     "data": {
      "text/plain": [
       "593"
      ]
     },
     "execution_count": 14,
     "metadata": {},
     "output_type": "execute_result"
    }
   ],
   "source": [
    "con_mat[0][0]+con_mat[1][0]\n",
    "con_mat[0][1]+con_mat[1][1]"
   ]
  },
  {
   "cell_type": "code",
   "execution_count": 15,
   "metadata": {
    "scrolled": true
   },
   "outputs": [
    {
     "data": {
      "text/plain": [
       "<AxesSubplot:>"
      ]
     },
     "execution_count": 15,
     "metadata": {},
     "output_type": "execute_result"
    },
    {
     "data": {
      "image/png": "[encoded data removed]",
      "text/plain": [
       "<Figure size 864x504 with 2 Axes>"
      ]
     },
     "metadata": {
      "needs_background": "light"
     },
     "output_type": "display_data"
    }
   ],
   "source": [
    "df_cm_raw = pd.DataFrame(con_mat, index=[i for i in labels],\n",
    "                     columns=[i for i in labels])\n",
    "plt.figure(figsize=(12, 7))\n",
    "sn.heatmap(df_cm_raw, annot=True)\n",
    "# plt.save(\"Confusion_matrix_raw.png\")"
   ]
  },
  {
   "cell_type": "code",
   "execution_count": 16,
   "metadata": {},
   "outputs": [
    {
     "data": {
      "text/plain": [
       "array([[9902,  390],\n",
       "       [  36,  203]])"
      ]
     },
     "execution_count": 16,
     "metadata": {},
     "output_type": "execute_result"
    }
   ],
   "source": [
    "con_mat"
   ]
  },
  {
   "cell_type": "code",
   "execution_count": 17,
   "metadata": {},
   "outputs": [
    {
     "data": {
      "text/plain": [
       "[]"
      ]
     },
     "execution_count": 17,
     "metadata": {},
     "output_type": "execute_result"
    }
   ],
   "source": [
    "data_loader_test"
   ]
  },
  {
   "cell_type": "code",
   "execution_count": 18,
   "metadata": {
    "scrolled": false
   },
   "outputs": [
    {
     "name": "stdout",
     "output_type": "stream",
     "text": [
      "33\n"
     ]
    },
    {
     "data": {
      "text/plain": [
       "['/workspace/myFile/Output/11082023/B0115/Damaged_nuclei_1.tiff',\n",
       " '/workspace/myFile/Output/11082023/B0115/Damaged_nuclei_2.tiff',\n",
       " '/workspace/myFile/Output/11082023/B0322/Damaged_nuclei_1.tiff',\n",
       " '/workspace/myFile/Output/11082023/D0725/Damaged_nuclei_1.tiff',\n",
       " '/workspace/myFile/Output/11082023/D0121/Damaged_nuclei_1.tiff',\n",
       " '/workspace/myFile/Output/11082023/E0723/Damaged_nuclei_1.tiff',\n",
       " '/workspace/myFile/Output/11082023/F0125/Damaged_nuclei_1.tiff',\n",
       " '/workspace/myFile/Output/11082023/F0125/Damaged_nuclei_2.tiff',\n",
       " '/workspace/myFile/Output/11082023/F0324/Damaged_nuclei_1.tiff',\n",
       " '/workspace/myFile/Output/11082023/C0212/Damaged_nuclei_1.tiff',\n",
       " '/workspace/myFile/Output/11082023/B0112/Damaged_nuclei_1.tiff',\n",
       " '/workspace/myFile/Output/11082023/E0108/Damaged_nuclei_1.tiff',\n",
       " '/workspace/myFile/Output/11082023/B0113/Damaged_nuclei_1.tiff',\n",
       " '/workspace/myFile/Output/11082023/B0113/Damaged_nuclei_2.tiff',\n",
       " '/workspace/myFile/Output/11082023/D0722/Damaged_nuclei_1.tiff',\n",
       " '/workspace/myFile/Output/11082023/B0210/Damaged_nuclei_1.tiff',\n",
       " '/workspace/myFile/Output/11082023/E0225/Damaged_nuclei_1.tiff',\n",
       " '/workspace/myFile/Output/11082023/B0310/Damaged_nuclei_1.tiff',\n",
       " '/workspace/myFile/Output/11082023/C0719/Damaged_nuclei_1.tiff',\n",
       " '/workspace/myFile/Output/11082023/B0105/Damaged_nuclei_1.tiff',\n",
       " '/workspace/myFile/Output/11082023/B0801/Damaged_nuclei_1.tiff',\n",
       " '/workspace/myFile/Output/11082023/B0309/Damaged_nuclei_1.tiff',\n",
       " '/workspace/myFile/Output/11082023/A0121/Damaged_nuclei_1.tiff',\n",
       " '/workspace/myFile/Output/11082023/F0124/Damaged_nuclei_1.tiff',\n",
       " '/workspace/myFile/Output/11082023/F0925/Damaged_nuclei_1.tiff',\n",
       " '/workspace/myFile/Output/11082023/B0925/Damaged_nuclei_1.tiff',\n",
       " '/workspace/myFile/Output/11082023/C0305/Damaged_nuclei_1.tiff',\n",
       " '/workspace/myFile/Output/11082023/F0103/Damaged_nuclei_1.tiff',\n",
       " '/workspace/myFile/Output/11082023/D0922/Damaged_nuclei_1.tiff',\n",
       " '/workspace/myFile/Output/11082023/F0121/Damaged_nuclei_1.tiff',\n",
       " '/workspace/myFile/Output/11082023/F0922/Damaged_nuclei_1.tiff',\n",
       " '/workspace/myFile/Output/11082023/F0922/Damaged_nuclei_2.tiff',\n",
       " '/workspace/myFile/Output/11082023/D0125/Damaged_nuclei_1.tiff']"
      ]
     },
     "execution_count": 18,
     "metadata": {},
     "output_type": "execute_result"
    }
   ],
   "source": [
    "weird = glob.glob(\"/workspace/myFile/Output/11082023/*/*.tiff\")\n",
    "Damagednuclei= [x for x in weird if 'Damaged_nuclei_' in x]\n",
    "print(len(Damagednuclei))\n",
    "Damagednuclei"
   ]
  },
  {
   "cell_type": "code",
   "execution_count": 19,
   "metadata": {},
   "outputs": [
    {
     "data": {
      "text/plain": [
       "False"
      ]
     },
     "execution_count": 19,
     "metadata": {},
     "output_type": "execute_result"
    }
   ],
   "source": [
    "True==0"
   ]
  }
 ],
 "metadata": {
  "kernelspec": {
   "display_name": "Python 3 (ipykernel)",
   "language": "python",
   "name": "python3"
  },
  "language_info": {
   "codemirror_mode": {
    "name": "ipython",
    "version": 3
   },
   "file_extension": ".py",
   "mimetype": "text/x-python",
   "name": "python",
   "nbconvert_exporter": "python",
   "pygments_lexer": "ipython3",
   "version": "3.8.12"
  }
 },
 "nbformat": 4,
 "nbformat_minor": 2
}
